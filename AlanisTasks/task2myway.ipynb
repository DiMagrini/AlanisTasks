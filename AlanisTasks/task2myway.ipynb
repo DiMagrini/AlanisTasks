{
 "cells": [
  {
   "cell_type": "code",
   "execution_count": null,
   "metadata": {},
   "outputs": [],
   "source": [
    "# 1) Leia um número inteiro que represente um dódigo de DDD para discagem interubana.\n",
    "# em seguida, informe à qual cidade o DDD pertence, considerando a tabela dada.\n",
    "# se a entrada for qualquer outro DDD que não esteja cadastrado, o programa deverá informar \"DDD não cadastrado\"\n",
    "\n",
    "ddd_list = {'61': 'Brasilia',\n",
    "            '71': 'salvador',\n",
    "            '11': 'São Paulo',\n",
    "            '21': 'Rio de Janeiro',\n",
    "            '32': 'Juiz de Fora',\n",
    "            '19': 'Campinas',\n",
    "            '27': 'Vitoria',\n",
    "            '31': 'Belo Horizonte'}\n",
    "\n",
    "ddd_input = input('Insira o DDD: ')\n",
    "\n",
    "if ddd_input in ddd_list:\n",
    "  print(ddd_list[ddd_input])\n",
    "\n",
    "else: print('DDD não cadastrado.')"
   ]
  },
  {
   "cell_type": "code",
   "execution_count": null,
   "metadata": {},
   "outputs": [],
   "source": [
    "#2) Você deve fazer um programa que leia um valor qualquer e apresente uma mensagem dizendo\n",
    "# em qual dos seguintes intervalos ([0; 25], [25; 50], [50; 75], [75; 100]) o valor está.\n",
    "# Se o valor não estiver em nenhum dos intervalos, deverá retornar a mensagem 'fora do intervalo'\n",
    "\n",
    "input_float = float(input('Insira um numero qualquer: '))\n",
    "\n",
    "msg_list = ['Intervalo 0, 25.',\n",
    "            'Intervalo 25, 50.',\n",
    "            'Intervalo 50, 75.',\n",
    "            'Intervalo 75, 100.',\n",
    "            'Fora do intervalo']\n",
    "\n",
    "if input_float <= 100 and input_float >= 0:\n",
    "  if input_float <= 25: range = msg_list[0]\n",
    "  elif input_float <= 25: range = msg_list[1]\n",
    "  elif input_float <= 25: range = msg_list[2]\n",
    "  else: range = msg_list[3]\n",
    "else: range = msg_list[4]\n",
    "\n",
    "print(range)"
   ]
  },
  {
   "cell_type": "code",
   "execution_count": null,
   "metadata": {},
   "outputs": [],
   "source": [
    "# 3) Com basse na tabela fornecida, escreva um programa que leia o código de um item\n",
    "# e a quantidade deste item. A seguir, calcule e mostre o valor da conta a pagar\n",
    "\n",
    "n_item = input('1 para cachorro quente\\n2 para X-salada\\n' +\n",
    "               '3 para X-bacon\\n' + '4 para torrada simples\\n' +\n",
    "               '5 para refrigerante\\n\\nDigite aqui o numero desejado: ')\n",
    "\n",
    "qnt_item = float(input('Digite a quantidade: '))\n",
    "\n",
    "class item:\n",
    "\n",
    "  def __init__(self, number, price):\n",
    "    self.number = number\n",
    "    self.price = price\n",
    "\n",
    "hotdog = item(1, 4.0)\n",
    "salad = item(2, 4.5)\n",
    "bacon = item(3, 5.0)\n",
    "toast = item(4, 2.0)\n",
    "soda = item(5, 1.5)\n",
    "\n",
    "item_dict = {'1':hotdog,\n",
    "             '2':salad,\n",
    "             '3':bacon,\n",
    "             '4':toast,\n",
    "             '5':soda}\n",
    "\n",
    "print('Conta: ' + str(item_dict[n_item].price*qnt_item) + ' reais.')\n"
   ]
  },
  {
   "cell_type": "code",
   "execution_count": null,
   "metadata": {},
   "outputs": [],
   "source": [
    "# 4)              até 5 Kg   |  acima de 5 Kg\n",
    "       # Morango: 2,50 reais |  2,20 reais\n",
    "       # Maçã:    1,80 reais |  1,50 reais\n",
    "\n",
    "# De acordo com a dada tabela, escreva um algoritimo para ler a quantidade em Kg\n",
    "# de morangos e maçãs e retorne o valor a ser pago. se o cliente comprar mais de 8 Kg\n",
    "# ou o valor total da compra ultrapassar 25 reais, aplique 10% de desconto sobre o total\n",
    "# aplique um desconto\n",
    "\n",
    "class fruit:\n",
    "  def __init__(self, price, price_rebate, qnt=0):\n",
    "    self.price_rebate = price_rebate\n",
    "    self.price = price\n",
    "    self.qnt = qnt\n",
    "\n",
    "morango = fruit(2.5, 2.2)\n",
    "maca = fruit(1.8, 1.5)\n",
    "another_fuit = fruit(2.6, 2.0)\n",
    "\n",
    "morango.qnt = float(input('Digite a quantidade de morangos: '))\n",
    "maca.qnt = float(input('Digite a quantidade de maçãs: '))\n",
    "\n",
    "def fruitspricing(fruit1, fruit2):\n",
    "  total = float\n",
    "  sum_qnt = fruit1.qnt + fruit2.qnt\n",
    "  if fruit1.qnt + fruit2.qnt > 5:\n",
    "    total = (fruit1.price_rebate)*fruit1.qnt + (fruit2.price_rebate)*fruit2.qnt\n",
    "  else: total = (fruit1.price)*fruit1.qnt + (fruit2.price)*fruit2.qnt\n",
    "\n",
    "  return total\n",
    "\n",
    "currentsum = fruitspricing(morango, maca)\n",
    "\n",
    "if currentsum > 25: currentsum = currentsum*0.9\n",
    "else: currentsum\n",
    "\n",
    "print(currentsum)"
   ]
  },
  {
   "cell_type": "code",
   "execution_count": null,
   "metadata": {},
   "outputs": [],
   "source": [
    "# 5) Faça um programa que leia 3 valores e apresente-os em ordem crescente\n",
    "\n",
    "valor1 = float(input('digite um numero: '))\n",
    "valor2 = float(input('digite um numero: '))\n",
    "valor3 = float(input('digite um numero: '))\n",
    "\n",
    "list1 = [valor1, valor2, valor3]\n",
    "\n",
    "list1.sort()\n",
    "\n",
    "print(list1)"
   ]
  }
 ],
 "metadata": {
  "kernelspec": {
   "display_name": "Python 3.9.5 64-bit",
   "language": "python",
   "name": "python3"
  },
  "language_info": {
   "name": "python",
   "version": "3.9.5"
  },
  "orig_nbformat": 4,
  "vscode": {
   "interpreter": {
    "hash": "84c584edc2b04d1d5ecbeca416ae12d574428f8f034941574795e40500e1dbdd"
   }
  }
 },
 "nbformat": 4,
 "nbformat_minor": 2
}
