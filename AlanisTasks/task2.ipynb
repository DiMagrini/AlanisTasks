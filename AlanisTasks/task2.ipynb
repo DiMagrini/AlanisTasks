{
  "cells": [
    {
      "cell_type": "code",
      "execution_count": null,
      "metadata": {
        "colab": {
          "base_uri": "https://localhost:8080/"
        },
        "id": "CqlY1nu0hdj6",
        "outputId": "180995dc-fcc8-45b8-843c-2eee15bb301e"
      },
      "outputs": [],
      "source": [
        "# 1) Leia um número inteiro que represente um dódigo de DDD para discagem interubana.\n",
        "# em seguida, informe à qual cidade o DDD pertence, considerando a tabela dada.\n",
        "# se a entrada for qualquer outro DDD que não esteja cadastrado, o programa deverá informar \"DDD não cadastrado\"\n",
        "\n",
        "ddd_61 = 'Brasilia'\n",
        "ddd_71 = 'salvador'\n",
        "ddd_11 = 'São Paulo'\n",
        "ddd_21 = 'Rio de Janeiro'\n",
        "ddd_32 = 'Juiz de Fora'\n",
        "ddd_19 = 'Campinas'\n",
        "ddd_27 = 'Vitoria'\n",
        "ddd_31 = 'Belo Horizonte'\n",
        "\n",
        "ddd_input = input('Insira o DDD: ')\n",
        "\n",
        "if ddd_input == '11':\n",
        "    print(ddd_11)\n",
        "\n",
        "elif ddd_input == '19':\n",
        "    print(ddd_19)\n",
        "\n",
        "elif ddd_input == '21':\n",
        "    print(ddd_21)\n",
        "\n",
        "elif ddd_input == '27':\n",
        "    print(ddd_27)\n",
        "\n",
        "elif ddd_input == '32':\n",
        "    print(ddd_32)\n",
        "\n",
        "elif ddd_input == '31':\n",
        "    print(ddd_31)\n",
        "\n",
        "elif ddd_input == '61':\n",
        "    print(ddd_61)\n",
        "\n",
        "elif ddd_input == '71':\n",
        "    print(ddd_71)\n",
        "\n",
        "else:\n",
        "  print('DDD não cadastrado')"
      ]
    },
    {
      "cell_type": "code",
      "execution_count": null,
      "metadata": {
        "colab": {
          "base_uri": "https://localhost:8080/"
        },
        "id": "nGyHAYGII6U8",
        "outputId": "d6e8effb-cd35-40c5-9354-a8bd307f246a"
      },
      "outputs": [],
      "source": [
        "#2) Você deve fazer um programa que leia um valor qualquer e apresente uma mensagem dizendo\n",
        "# em qual dos seguintes intervalos ([0; 25], [25; 50], [50; 75], [75; 100]) o valor está.\n",
        "# Se o valor não estiver em nenhum dos intervalos, deverá retornar a mensagem 'fora do intervalo'\n",
        "\n",
        "input_float = float(input('Insira um numero qualquer: '))\n",
        "\n",
        "if input_float < 100.0001 and input_float > 0:\n",
        "  if input_float < 25.0001:\n",
        "        print('intervalo 0, 25.')\n",
        "  elif input_float < 50.0001:\n",
        "        print('intervalo 25, 50.')\n",
        "  elif input_float < 75.0001:\n",
        "        print('intervalo 50, 75.')\n",
        "  else: print('intervalo 75, 100.')\n",
        "else: print('fora do intervalo.')"
      ]
    },
    {
      "cell_type": "code",
      "execution_count": null,
      "metadata": {
        "id": "h9TTYoG4kez1"
      },
      "outputs": [],
      "source": [
        "# 3) Com basse na tabela fornecida, escreva um programa que leia o código de um item\n",
        "# e a quantidade deste item. A seguir, calcule e mostre o valor da conta a pagar\n",
        "\n",
        "n_item = float(input('1 para cachorro quente\\n2 para X-salada\\n' +\n",
        "               '3 para X-bacon\\n' + '4 para torrada simples\\n' +\n",
        "               '5 para refrigerante\\n\\nDigite aqui o numero desejado: '))\n",
        "\n",
        "qnt_item = float(input('Digite a quantidade: '))\n",
        "\n",
        "if n_item == 1:\n",
        "  print('Total: R$ ' + str('%.2f' % (qnt_item*4.0)))\n",
        "if n_item == 2:\n",
        "  print('Total: R$ ' + str('%.2f' % (qnt_item*4.5)))\n",
        "if n_item == 3:\n",
        "  print('Total: R$ ' + str('%.2f' % (qnt_item*5.0)))\n",
        "if n_item == 4:\n",
        "  print('Total: R$ ' + str('%.2f' % (qnt_item*2.0)))\n",
        "if n_item == 5:\n",
        "  print('Total: R$ ' + str('%.2f' % (qnt_item*1.5)))"
      ]
    },
    {
      "cell_type": "code",
      "execution_count": null,
      "metadata": {
        "colab": {
          "base_uri": "https://localhost:8080/"
        },
        "id": "hxfwtS8luyBj",
        "outputId": "3a7b3781-e427-4883-e0d3-49ddc2993ba9"
      },
      "outputs": [],
      "source": [
        "# 4)              até 5 Kg   |  acima de 5 Kg\n",
        "       # Morango: 2,50 reais |  2,20 reais\n",
        "       # Maçã:    1,80 reais |  1,50 reais\n",
        "\n",
        "# De acordo com a dada tabela, escreva um algoritimo para ler a quantidade em Kg\n",
        "# de morangos e maçãs e retorne o valor a ser pago. se o cliente comprar mais de 8 Kg\n",
        "# ou o valor total da compra ultrapassar 25 reais, aplique 10% de desconto sobre o total\n",
        "# aplique um desconto\n",
        "\n",
        "qnt_morango = float(input('Digite a quantidade de morangos: '))\n",
        "qnt_maca = float(input('Digite a quantidade de maçãs: '))\n",
        "total_maca = float\n",
        "total_morango = float\n",
        "\n",
        "if qnt_morango < 5:\n",
        "  total_morango = qnt_morango*2.5\n",
        "\n",
        "if qnt_morango > 5:\n",
        "  total_morango = qnt_morango*2.2\n",
        "\n",
        "if qnt_maca < 5:\n",
        "  total_maca = qnt_maca*1.8\n",
        "\n",
        "if qnt_maca > 5:\n",
        "  total_maca = qnt_maca*1.5\n",
        "\n",
        "total_devido = total_morango + total_maca\n",
        "\n",
        "if total_devido > 25 or qnt_morango + qnt_maca > 8:\n",
        "  total_devido = total_devido*0.9\n",
        "\n",
        "print('Total: ', str(total_devido) + ' reais')"
      ]
    },
    {
      "cell_type": "code",
      "execution_count": null,
      "metadata": {
        "colab": {
          "base_uri": "https://localhost:8080/"
        },
        "id": "HikCVt6f2Vcs",
        "outputId": "d4afbaa0-3bbd-4fb2-a8b9-fa893fdf8a25"
      },
      "outputs": [],
      "source": [
        "# 5) Faça um programa que leia 3 valores e apresente-os em ordem crescente\n",
        "\n",
        "valor1 = float(input('digite um numero: '))\n",
        "valor2 = float(input('digite um numero: '))\n",
        "valor3 = float(input('digite um numero: '))\n",
        "\n",
        "if valor1 < valor2 and valor1 < valor3:\n",
        "  primeiro = valor1\n",
        "  if valor2 < valor3:\n",
        "    segundo = valor2\n",
        "    terceiro = valor3\n",
        "  else:\n",
        "    segundo = valor3\n",
        "    terceiro = valor2\n",
        "\n",
        "elif valor2 < valor1 and valor2 < valor3:\n",
        "  print('2 primeiro')\n",
        "  primeiro = valor2\n",
        "  if valor1 < valor3:\n",
        "    segundo = valor1\n",
        "    terceiro = valor3\n",
        "  else:\n",
        "    segundo = valor3\n",
        "    terceiro = valor1\n",
        "\n",
        "elif valor3 < valor2 and valor3 < valor1:\n",
        "  primeiro = valor3\n",
        "  if valor2 < valor1:\n",
        "    segundo = valor2\n",
        "    terceiro = valor1\n",
        "  else:\n",
        "    segundo = valor1\n",
        "    terceiro = valor2\n",
        "\n",
        "else:\n",
        "  primeiro = valor1\n",
        "  segundo = valor2\n",
        "  terceiro = valor3 \n",
        "\n",
        "print(primeiro, segundo, terceiro)\n",
        "\n",
        "#foi centenas de vezes mais dificil fazer isso usando apenas boolianos kkkk"
      ]
    }
  ],
  "metadata": {
    "colab": {
      "provenance": []
    },
    "kernelspec": {
      "display_name": "Python 3.9.5 64-bit",
      "language": "python",
      "name": "python3"
    },
    "language_info": {
      "codemirror_mode": {
        "name": "ipython",
        "version": 3
      },
      "file_extension": ".py",
      "mimetype": "text/x-python",
      "name": "python",
      "nbconvert_exporter": "python",
      "pygments_lexer": "ipython3",
      "version": "3.9.5"
    },
    "vscode": {
      "interpreter": {
        "hash": "84c584edc2b04d1d5ecbeca416ae12d574428f8f034941574795e40500e1dbdd"
      }
    }
  },
  "nbformat": 4,
  "nbformat_minor": 0
}
